{
 "cells": [
  {
   "cell_type": "markdown",
   "id": "079bc108",
   "metadata": {},
   "source": [
    "# All the information is on the task(master fan wiki)"
   ]
  },
  {
   "cell_type": "markdown",
   "id": "24dfec77",
   "metadata": {},
   "source": [
    "In this notebook we try to use Python's BeautifulSoup module to scrape the wording of all the tasks from series 14 of the popular TV show Taskmaster from the fan wiki:\n",
    "\n",
    "https://taskmaster.fandom.com/wiki/Series_4\n",
    "\n",
    "with a view to analysing them."
   ]
  },
  {
   "cell_type": "markdown",
   "id": "2469c85a",
   "metadata": {},
   "source": [
    "## The main tasks"
   ]
  },
  {
   "cell_type": "code",
   "execution_count": null,
   "id": "9c87a91f",
   "metadata": {},
   "outputs": [],
   "source": [
    "# Ususal uploads\n",
    "\n",
    "from bs4 import BeautifulSoup\n",
    "import requests\n",
    "import numpy as np\n",
    "\n",
    "from wordcloud import WordCloud\n",
    "import plotly.express as px\n",
    "from pprint import pprint\n",
    "import string\n",
    "from nltk.tokenize import word_tokenize\n",
    "from nltk.corpus import stopwords\n",
    "\n",
    "import pandas as pd"
   ]
  },
  {
   "cell_type": "code",
   "execution_count": null,
   "id": "2b996cd0",
   "metadata": {},
   "outputs": [],
   "source": [
    "url = 'https://taskmaster.fandom.com/wiki/Series_4'"
   ]
  },
  {
   "cell_type": "code",
   "execution_count": null,
   "id": "e0a74d9c",
   "metadata": {},
   "outputs": [],
   "source": [
    "page = requests.get(url)"
   ]
  },
  {
   "cell_type": "code",
   "execution_count": null,
   "id": "003b1ab9",
   "metadata": {},
   "outputs": [],
   "source": [
    "soup = BeautifulSoup(page.text, 'html.parser')"
   ]
  },
  {
   "cell_type": "code",
   "execution_count": null,
   "id": "8515beac",
   "metadata": {},
   "outputs": [],
   "source": [
    "all_starts = list(soup.find_all(\"tr\", class_='tmtablerow'))\n",
    "len(all_starts)"
   ]
  },
  {
   "cell_type": "code",
   "execution_count": null,
   "id": "3706cd2c",
   "metadata": {},
   "outputs": [],
   "source": [
    "#Putting them all in a single list\n",
    "\n",
    "all_tasks = []\n",
    "for i in range(len(all_starts)):\n",
    "    if len(list(all_starts[i])) > 2:\n",
    "        all_tasks.append(str(list(all_starts[i])[3]))\n",
    "    else:\n",
    "        all_tasks.append(str(list(all_starts[i])[1]))\n",
    "    \n",
    "            \n",
    "pprint(all_tasks)"
   ]
  },
  {
   "cell_type": "code",
   "execution_count": null,
   "id": "409f60e9",
   "metadata": {},
   "outputs": [],
   "source": [
    "# Getting rid of the <td>s from the beinnings \n",
    "\n",
    "all_tasks = [task[4:] for task in all_tasks]\n",
    "all_tasks"
   ]
  },
  {
   "cell_type": "code",
   "execution_count": null,
   "id": "96f55174",
   "metadata": {},
   "outputs": [],
   "source": [
    "#Remove the stuff from the beginnings\n",
    "\n",
    "for i in range(len(all_tasks)):\n",
    "    if 'Prize:' in all_tasks[i]:\n",
    "        all_tasks[i] = all_tasks[i][14:]\n",
    "    if 'Team Live' in all_tasks[i]:\n",
    "        all_tasks[i] = all_tasks[i][18:]\n",
    "    if 'Team' in all_tasks[i]:\n",
    "        all_tasks[i] = all_tasks[i][13:]\n",
    "    if 'Live' in all_tasks[i]:\n",
    "        all_tasks[i] = all_tasks[i][13:]\n",
    "        \n",
    "all_tasks"
   ]
  },
  {
   "cell_type": "code",
   "execution_count": null,
   "id": "cf215324",
   "metadata": {},
   "outputs": [],
   "source": [
    "# Removing the stuff from the end\n",
    "\n",
    "all_tasks = [task[:-7] for task in all_tasks]\n",
    "all_tasks"
   ]
  },
  {
   "cell_type": "code",
   "execution_count": null,
   "id": "59a4b4e9",
   "metadata": {},
   "outputs": [],
   "source": [
    "# Addressing problematic cases\n",
    "\n",
    "all_tasks[2] = \"Find out the person's full name\"\n",
    "all_tasks[2]"
   ]
  },
  {
   "cell_type": "code",
   "execution_count": null,
   "id": "496c286a",
   "metadata": {},
   "outputs": [],
   "source": [
    "all_tasks[8] = 'Also, you must smile at the camera with increasing enthusiasm every 30 seconds'\n",
    "all_tasks[8]"
   ]
  },
  {
   "cell_type": "code",
   "execution_count": null,
   "id": "7d5a69ca",
   "metadata": {},
   "outputs": [],
   "source": [
    "all_tasks[16] = 'Persuade three chickens to stand on the red mat at the same time.'\n",
    "all_tasks[16]"
   ]
  },
  {
   "cell_type": "code",
   "execution_count": null,
   "id": "ef4254d2",
   "metadata": {},
   "outputs": [],
   "source": [
    "all_tasks[17] = 'Without moving the fishbowls, transfer the water from fishbowl A to fishbowl B. You may only use the items on this table. Also, you must commentate on your attempt throughout the task, always referring to yourself in the third person. If you eat any of the chocolate you will be docked five points.'\n",
    "all_tasks[17]"
   ]
  },
  {
   "cell_type": "code",
   "execution_count": null,
   "id": "d4c72f39",
   "metadata": {},
   "outputs": [],
   "source": [
    "all_tasks[21] = 'Make the highest splash. Before your you commence the task you must say who you think will win the task. Those who correctly guess the winner will win an extra five points.'\n",
    "all_tasks[21]"
   ]
  },
  {
   "cell_type": "code",
   "execution_count": null,
   "id": "2f805522",
   "metadata": {},
   "outputs": [],
   "source": [
    "all_tasks[28] = \"Maintaining constant eye contact and making continuous small talk with this Swedish person, put on the wetsuit, flippers, face mask and snorkel. Your head may not leave the Swedish person's frame at any point. You may not move the laptop from its current position. Whoever puts the wetsuit on best. Best small talk.\"\n",
    "all_tasks[28]"
   ]
  },
  {
   "cell_type": "code",
   "execution_count": null,
   "id": "90525943",
   "metadata": {},
   "outputs": [],
   "source": [
    "all_tasks[30] = 'Seal the top of this bathtub with cling film.'\n",
    "all_tasks[30]"
   ]
  },
  {
   "cell_type": "code",
   "execution_count": null,
   "id": "cfcbd6f6",
   "metadata": {},
   "outputs": [],
   "source": [
    "all_tasks[31] = 'Fill the bathtub with water.'\n",
    "all_tasks[31]"
   ]
  },
  {
   "cell_type": "code",
   "execution_count": null,
   "id": "a17569e0",
   "metadata": {},
   "outputs": [],
   "source": [
    "all_tasks[33] = 'Make the longest continuous noise. Best noise.'\n",
    "all_tasks[33]"
   ]
  },
  {
   "cell_type": "code",
   "execution_count": null,
   "id": "04ae96a3",
   "metadata": {},
   "outputs": [],
   "source": [
    "all_tasks[37] = 'Score the best goal with this plastic bag. You may not handbag the bag. Best goal.'\n",
    "all_tasks[37]"
   ]
  },
  {
   "cell_type": "code",
   "execution_count": null,
   "id": "2e601765",
   "metadata": {},
   "outputs": [],
   "source": [
    "all_tasks[52] = 'Make the most exotic sandwich. Eat your exotic sandwich.'\n",
    "all_tasks[52]"
   ]
  },
  {
   "cell_type": "code",
   "execution_count": null,
   "id": "89f9981c",
   "metadata": {},
   "outputs": [],
   "source": [
    "all_tasks[55] = 'Draw the median duck. The median duck alone wins. Best duck picture.'\n",
    "all_tasks[55]"
   ]
  },
  {
   "cell_type": "markdown",
   "id": "d7e95da7",
   "metadata": {},
   "source": [
    "## NLP"
   ]
  },
  {
   "cell_type": "code",
   "execution_count": null,
   "id": "ec1fd55c",
   "metadata": {},
   "outputs": [],
   "source": [
    "tasks_split = [task.split() for task in all_tasks]\n",
    "pprint(tasks_split)"
   ]
  },
  {
   "cell_type": "code",
   "execution_count": null,
   "id": "3fbaf395",
   "metadata": {},
   "outputs": [],
   "source": [
    "task_words = []\n",
    "for task in tasks_split:\n",
    "    task_words += task\n",
    "\n",
    "task_words"
   ]
  },
  {
   "cell_type": "code",
   "execution_count": null,
   "id": "79d9ffeb",
   "metadata": {},
   "outputs": [],
   "source": [
    "tasks_lower = [task.lower() for task in task_words]\n",
    "tasks_lower"
   ]
  },
  {
   "cell_type": "code",
   "execution_count": null,
   "id": "efbc6b43",
   "metadata": {},
   "outputs": [],
   "source": [
    "tasks_no_punc = []\n",
    "\n",
    "for word in tasks_lower:\n",
    "    for punctuation in string.punctuation:\n",
    "        word = word.replace(punctuation, '')\n",
    "    tasks_no_punc.append(word)\n",
    "        \n",
    "tasks_no_punc"
   ]
  },
  {
   "cell_type": "code",
   "execution_count": null,
   "id": "467e75b1",
   "metadata": {},
   "outputs": [],
   "source": [
    "stop_words = set(stopwords.words('english'))"
   ]
  },
  {
   "cell_type": "code",
   "execution_count": null,
   "id": "59012b38",
   "metadata": {},
   "outputs": [],
   "source": [
    "tasks_no_stop = [word for word in tasks_no_punc if word not in stop_words]"
   ]
  },
  {
   "cell_type": "code",
   "execution_count": null,
   "id": "8a1d6a40",
   "metadata": {},
   "outputs": [],
   "source": [
    "len(tasks_lower)"
   ]
  },
  {
   "cell_type": "code",
   "execution_count": null,
   "id": "cebcd8d3",
   "metadata": {},
   "outputs": [],
   "source": [
    "len(tasks_no_stop)"
   ]
  },
  {
   "cell_type": "code",
   "execution_count": null,
   "id": "462a7236",
   "metadata": {},
   "outputs": [],
   "source": [
    "# Lemmatizing\n",
    "\n",
    "from nltk.stem import WordNetLemmatizer\n",
    "\n",
    "# Lemmatizing the verbs\n",
    "task_verb_lem = [\n",
    "    WordNetLemmatizer().lemmatize(word, pos = \"v\") # v --> verbs\n",
    "    for word in tasks_no_stop\n",
    "]\n",
    "\n",
    "task_verb_lem"
   ]
  },
  {
   "cell_type": "code",
   "execution_count": null,
   "id": "1cefbf8c",
   "metadata": {},
   "outputs": [],
   "source": [
    "tasks_final = [\n",
    "    WordNetLemmatizer().lemmatize(word, pos = \"n\") # n --> nouns\n",
    "    for word in task_verb_lem\n",
    "]\n",
    "\n",
    "tasks_final"
   ]
  },
  {
   "cell_type": "markdown",
   "id": "dc20eb6e",
   "metadata": {},
   "source": [
    "## Word count"
   ]
  },
  {
   "cell_type": "code",
   "execution_count": null,
   "id": "e3569a4f",
   "metadata": {},
   "outputs": [],
   "source": [
    "df = pd.DataFrame(tasks_final)\n",
    "df"
   ]
  },
  {
   "cell_type": "code",
   "execution_count": null,
   "id": "dbcefbeb",
   "metadata": {},
   "outputs": [],
   "source": [
    "df[0].value_counts().nlargest(15)"
   ]
  },
  {
   "cell_type": "markdown",
   "id": "613c3a82",
   "metadata": {},
   "source": [
    "## Word cloud"
   ]
  },
  {
   "cell_type": "code",
   "execution_count": null,
   "id": "ae05c80a",
   "metadata": {},
   "outputs": [],
   "source": [
    "from os import path\n",
    "from PIL import Image\n",
    "from wordcloud import STOPWORDS, ImageColorGenerator\n",
    "import matplotlib.pyplot as plt"
   ]
  },
  {
   "cell_type": "code",
   "execution_count": null,
   "id": "f38a1d8d",
   "metadata": {},
   "outputs": [],
   "source": [
    "text = ''\n",
    "for words in tasks_final:\n",
    "    text += words + ' '\n",
    "\n",
    "text"
   ]
  },
  {
   "cell_type": "code",
   "execution_count": null,
   "id": "b9d93e2e",
   "metadata": {},
   "outputs": [],
   "source": [
    "wordcloud = WordCloud(background_color=\"white\").generate(text)"
   ]
  },
  {
   "cell_type": "code",
   "execution_count": null,
   "id": "5c2e83e9",
   "metadata": {},
   "outputs": [],
   "source": [
    "plt.imshow(wordcloud, interpolation='bilinear')\n",
    "plt.axis(\"off\")\n",
    "plt.show()"
   ]
  },
  {
   "cell_type": "code",
   "execution_count": null,
   "id": "dfc3bd25",
   "metadata": {},
   "outputs": [],
   "source": []
  }
 ],
 "metadata": {
  "kernelspec": {
   "display_name": "Python 3 (ipykernel)",
   "language": "python",
   "name": "python3"
  },
  "language_info": {
   "codemirror_mode": {
    "name": "ipython",
    "version": 3
   },
   "file_extension": ".py",
   "mimetype": "text/x-python",
   "name": "python",
   "nbconvert_exporter": "python",
   "pygments_lexer": "ipython3",
   "version": "3.11.3"
  }
 },
 "nbformat": 4,
 "nbformat_minor": 5
}
