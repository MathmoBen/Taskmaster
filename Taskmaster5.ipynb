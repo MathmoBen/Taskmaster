{
 "cells": [
  {
   "cell_type": "markdown",
   "id": "6f1b204f",
   "metadata": {},
   "source": [
    "# All the information is on the task(master fan wiki)"
   ]
  },
  {
   "cell_type": "markdown",
   "id": "42cc6393",
   "metadata": {},
   "source": [
    "In this notebook we try to use Python's BeautifulSoup module to scrape the wording of all the tasks from series 14 of the popular TV show Taskmaster from the fan wiki:\n",
    "\n",
    "https://taskmaster.fandom.com/wiki/Series_5\n",
    "\n",
    "with a view to analysing them."
   ]
  },
  {
   "cell_type": "markdown",
   "id": "6a980a10",
   "metadata": {},
   "source": [
    "## The main tasks"
   ]
  },
  {
   "cell_type": "code",
   "execution_count": null,
   "id": "e083ba5f",
   "metadata": {},
   "outputs": [],
   "source": [
    "# Ususal uploads\n",
    "\n",
    "from bs4 import BeautifulSoup\n",
    "import requests\n",
    "import numpy as np\n",
    "\n",
    "from wordcloud import WordCloud\n",
    "import plotly.express as px\n",
    "from pprint import pprint\n",
    "import string\n",
    "from nltk.tokenize import word_tokenize\n",
    "from nltk.corpus import stopwords\n",
    "\n",
    "import pandas as pd"
   ]
  },
  {
   "cell_type": "code",
   "execution_count": null,
   "id": "3ff6f474",
   "metadata": {},
   "outputs": [],
   "source": [
    "url = 'https://taskmaster.fandom.com/wiki/Series_5'"
   ]
  },
  {
   "cell_type": "code",
   "execution_count": null,
   "id": "6119a1d6",
   "metadata": {},
   "outputs": [],
   "source": [
    "page = requests.get(url)"
   ]
  },
  {
   "cell_type": "code",
   "execution_count": null,
   "id": "45095272",
   "metadata": {},
   "outputs": [],
   "source": [
    "soup = BeautifulSoup(page.text, 'html.parser')"
   ]
  },
  {
   "cell_type": "code",
   "execution_count": null,
   "id": "d4648b7e",
   "metadata": {},
   "outputs": [],
   "source": [
    "all_starts = list(soup.find_all(\"tr\", class_='tmtablerow'))\n",
    "len(all_starts)"
   ]
  },
  {
   "cell_type": "code",
   "execution_count": null,
   "id": "e76cccd3",
   "metadata": {},
   "outputs": [],
   "source": [
    "#Putting them all in a single list\n",
    "\n",
    "all_tasks = []\n",
    "for i in range(len(all_starts)):\n",
    "    if len(list(all_starts[i])) > 2:\n",
    "        all_tasks.append(str(list(all_starts[i])[3]))\n",
    "    else:\n",
    "        all_tasks.append(str(list(all_starts[i])[1]))\n",
    "    \n",
    "            \n",
    "pprint(all_tasks)"
   ]
  },
  {
   "cell_type": "code",
   "execution_count": null,
   "id": "f8578dd4",
   "metadata": {},
   "outputs": [],
   "source": [
    "# Getting rid of the <td>s from the beinnings \n",
    "\n",
    "all_tasks = [task[4:] for task in all_tasks]\n",
    "all_tasks"
   ]
  },
  {
   "cell_type": "code",
   "execution_count": null,
   "id": "40bd23c2",
   "metadata": {},
   "outputs": [],
   "source": [
    "#Remove the stuff from the beginnings\n",
    "\n",
    "for i in range(len(all_tasks)):\n",
    "    if 'Prize:' in all_tasks[i]:\n",
    "        all_tasks[i] = all_tasks[i][14:]\n",
    "    if 'Team Live' in all_tasks[i]:\n",
    "        all_tasks[i] = all_tasks[i][18:]\n",
    "    if 'Team' in all_tasks[i]:\n",
    "        all_tasks[i] = all_tasks[i][13:]\n",
    "    if 'Live' in all_tasks[i]:\n",
    "        all_tasks[i] = all_tasks[i][13:]\n",
    "        \n",
    "all_tasks"
   ]
  },
  {
   "cell_type": "code",
   "execution_count": null,
   "id": "15456fd0",
   "metadata": {},
   "outputs": [],
   "source": [
    "# Removing the stuff from the end\n",
    "\n",
    "all_tasks = [task[:-7] for task in all_tasks]\n",
    "all_tasks"
   ]
  },
  {
   "cell_type": "code",
   "execution_count": null,
   "id": "9d1da72e",
   "metadata": {},
   "outputs": [],
   "source": [
    "all_tasks[13] = all_tasks[13][-12:]\n",
    "all_tasks[13]"
   ]
  },
  {
   "cell_type": "code",
   "execution_count": null,
   "id": "66421c6f",
   "metadata": {},
   "outputs": [],
   "source": [
    "all_tasks[21] = \"Spot the difference. Have a look at the scene in front of you and explain exactly what's changed since you put the blindfold on.\"\n",
    "all_tasks[21]"
   ]
  },
  {
   "cell_type": "code",
   "execution_count": null,
   "id": "fe44f34a",
   "metadata": {},
   "outputs": [],
   "source": [
    "all_tasks[34] = \"Using this flame, light the candle in the caravan.\"\n",
    "all_tasks[34]"
   ]
  },
  {
   "cell_type": "markdown",
   "id": "bd8e3fdc",
   "metadata": {},
   "source": [
    "## NLP"
   ]
  },
  {
   "cell_type": "code",
   "execution_count": null,
   "id": "4978ed3a",
   "metadata": {},
   "outputs": [],
   "source": [
    "tasks_split = [task.split() for task in all_tasks]\n",
    "pprint(tasks_split)"
   ]
  },
  {
   "cell_type": "code",
   "execution_count": null,
   "id": "9fe688d6",
   "metadata": {},
   "outputs": [],
   "source": [
    "task_words = []\n",
    "for task in tasks_split:\n",
    "    task_words += task\n",
    "\n",
    "task_words"
   ]
  },
  {
   "cell_type": "code",
   "execution_count": null,
   "id": "c41a5706",
   "metadata": {},
   "outputs": [],
   "source": [
    "tasks_lower = [task.lower() for task in task_words]\n",
    "tasks_lower"
   ]
  },
  {
   "cell_type": "code",
   "execution_count": null,
   "id": "32b9e214",
   "metadata": {},
   "outputs": [],
   "source": [
    "tasks_no_punc = []\n",
    "\n",
    "for word in tasks_lower:\n",
    "    for punctuation in string.punctuation:\n",
    "        word = word.replace(punctuation, '')\n",
    "    tasks_no_punc.append(word)\n",
    "        \n",
    "tasks_no_punc"
   ]
  },
  {
   "cell_type": "code",
   "execution_count": null,
   "id": "4d16f53e",
   "metadata": {},
   "outputs": [],
   "source": [
    "stop_words = set(stopwords.words('english'))"
   ]
  },
  {
   "cell_type": "code",
   "execution_count": null,
   "id": "36e4008f",
   "metadata": {},
   "outputs": [],
   "source": [
    "tasks_no_stop = [word for word in tasks_no_punc if word not in stop_words]"
   ]
  },
  {
   "cell_type": "code",
   "execution_count": null,
   "id": "2cd3dfa5",
   "metadata": {},
   "outputs": [],
   "source": [
    "len(tasks_lower)"
   ]
  },
  {
   "cell_type": "code",
   "execution_count": null,
   "id": "4ff028ed",
   "metadata": {},
   "outputs": [],
   "source": [
    "len(tasks_no_stop)"
   ]
  },
  {
   "cell_type": "code",
   "execution_count": null,
   "id": "aeb91ac7",
   "metadata": {},
   "outputs": [],
   "source": [
    "# Lemmatizing\n",
    "\n",
    "from nltk.stem import WordNetLemmatizer\n",
    "\n",
    "# Lemmatizing the verbs\n",
    "task_verb_lem = [\n",
    "    WordNetLemmatizer().lemmatize(word, pos = \"v\") # v --> verbs\n",
    "    for word in tasks_no_stop\n",
    "]\n",
    "\n",
    "task_verb_lem"
   ]
  },
  {
   "cell_type": "code",
   "execution_count": null,
   "id": "a65cd1e2",
   "metadata": {},
   "outputs": [],
   "source": [
    "tasks_final = [\n",
    "    WordNetLemmatizer().lemmatize(word, pos = \"n\") # n --> nouns\n",
    "    for word in task_verb_lem\n",
    "]\n",
    "\n",
    "tasks_final"
   ]
  },
  {
   "cell_type": "markdown",
   "id": "3efaf53f",
   "metadata": {},
   "source": [
    "## Word count"
   ]
  },
  {
   "cell_type": "code",
   "execution_count": null,
   "id": "05d3a50c",
   "metadata": {},
   "outputs": [],
   "source": [
    "df = pd.DataFrame(tasks_final)\n",
    "df"
   ]
  },
  {
   "cell_type": "code",
   "execution_count": null,
   "id": "fcf72fc4",
   "metadata": {},
   "outputs": [],
   "source": [
    "df[0].value_counts().nlargest(15)"
   ]
  },
  {
   "cell_type": "markdown",
   "id": "04baf667",
   "metadata": {},
   "source": [
    "## Word cloud"
   ]
  },
  {
   "cell_type": "code",
   "execution_count": null,
   "id": "42330600",
   "metadata": {},
   "outputs": [],
   "source": [
    "from os import path\n",
    "from PIL import Image\n",
    "from wordcloud import STOPWORDS, ImageColorGenerator\n",
    "import matplotlib.pyplot as plt"
   ]
  },
  {
   "cell_type": "code",
   "execution_count": null,
   "id": "bc74f57c",
   "metadata": {},
   "outputs": [],
   "source": [
    "text = ''\n",
    "for words in tasks_final:\n",
    "    text += words + ' '\n",
    "\n",
    "text"
   ]
  },
  {
   "cell_type": "code",
   "execution_count": null,
   "id": "8d1ddb16",
   "metadata": {},
   "outputs": [],
   "source": [
    "wordcloud = WordCloud(background_color=\"white\").generate(text)"
   ]
  },
  {
   "cell_type": "code",
   "execution_count": null,
   "id": "94682b3e",
   "metadata": {},
   "outputs": [],
   "source": [
    "plt.imshow(wordcloud, interpolation='bilinear')\n",
    "plt.axis(\"off\")\n",
    "plt.show()"
   ]
  },
  {
   "cell_type": "code",
   "execution_count": null,
   "id": "3f345a7e",
   "metadata": {},
   "outputs": [],
   "source": []
  }
 ],
 "metadata": {
  "kernelspec": {
   "display_name": "Python 3 (ipykernel)",
   "language": "python",
   "name": "python3"
  },
  "language_info": {
   "codemirror_mode": {
    "name": "ipython",
    "version": 3
   },
   "file_extension": ".py",
   "mimetype": "text/x-python",
   "name": "python",
   "nbconvert_exporter": "python",
   "pygments_lexer": "ipython3",
   "version": "3.11.3"
  }
 },
 "nbformat": 4,
 "nbformat_minor": 5
}
