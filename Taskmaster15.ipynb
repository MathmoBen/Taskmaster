{
 "cells": [
  {
   "cell_type": "markdown",
   "id": "969659ef",
   "metadata": {},
   "source": [
    "# All the information is on the task(master fan wiki)"
   ]
  },
  {
   "cell_type": "markdown",
   "id": "8e650f7b",
   "metadata": {},
   "source": [
    "In this notebook we try to use Python's BeautifulSoup module to scrape the wording of all the tasks from series 15 of the popular TV show Taskmaster from the fan wiki:\n",
    "\n",
    "https://taskmaster.fandom.com/wiki/Series_15\n",
    "\n",
    "with a view to analysing them."
   ]
  },
  {
   "cell_type": "code",
   "execution_count": null,
   "id": "7088e93e",
   "metadata": {},
   "outputs": [],
   "source": [
    "# Ususal uploads\n",
    "\n",
    "from bs4 import BeautifulSoup\n",
    "import requests\n",
    "import numpy as np\n",
    "\n",
    "from wordcloud import WordCloud\n",
    "import plotly.express as px\n",
    "from pprint import pprint\n",
    "import string\n",
    "from nltk.tokenize import word_tokenize\n",
    "from nltk.corpus import stopwords\n",
    "\n",
    "import pandas as pd"
   ]
  },
  {
   "cell_type": "code",
   "execution_count": null,
   "id": "9e365bb5",
   "metadata": {},
   "outputs": [],
   "source": [
    "url = 'https://taskmaster.fandom.com/wiki/Series_15'"
   ]
  },
  {
   "cell_type": "code",
   "execution_count": null,
   "id": "a5b2ef76",
   "metadata": {},
   "outputs": [],
   "source": [
    "page = requests.get(url)"
   ]
  },
  {
   "cell_type": "code",
   "execution_count": null,
   "id": "771cc3c1",
   "metadata": {},
   "outputs": [],
   "source": [
    "soup = BeautifulSoup(page.text, 'html.parser')"
   ]
  },
  {
   "cell_type": "code",
   "execution_count": null,
   "id": "368c50ae",
   "metadata": {},
   "outputs": [],
   "source": [
    "print(soup.prettify)"
   ]
  },
  {
   "cell_type": "code",
   "execution_count": null,
   "id": "48c65709",
   "metadata": {},
   "outputs": [],
   "source": [
    "table_rows = soup.find_all(\"tr\", class_='tmtablerow')"
   ]
  },
  {
   "cell_type": "code",
   "execution_count": null,
   "id": "843fce72",
   "metadata": {},
   "outputs": [],
   "source": [
    "len(table_rows)"
   ]
  },
  {
   "cell_type": "code",
   "execution_count": null,
   "id": "d6014650",
   "metadata": {},
   "outputs": [],
   "source": [
    "table_rows[3].find_all(\"td\")[0]#.get_text()[:-2]"
   ]
  },
  {
   "cell_type": "code",
   "execution_count": null,
   "id": "82b61084",
   "metadata": {},
   "outputs": [],
   "source": [
    "list(table_rows[0])[3]"
   ]
  },
  {
   "cell_type": "code",
   "execution_count": null,
   "id": "f99f3c80",
   "metadata": {},
   "outputs": [],
   "source": [
    "#lengths = [len(table_rows[i]) for i in range(len(table_rows))]\n",
    "#lengths"
   ]
  },
  {
   "cell_type": "code",
   "execution_count": null,
   "id": "6b6d0a61",
   "metadata": {},
   "outputs": [],
   "source": [
    "#for i in range(len(lengths)):\n",
    "#    if lengths[i] == 2:\n",
    "#        print(table_rows[i],'\\n')\n",
    "        "
   ]
  },
  {
   "cell_type": "code",
   "execution_count": null,
   "id": "0d9706f1",
   "metadata": {},
   "outputs": [],
   "source": [
    "#table_rows[7]"
   ]
  },
  {
   "cell_type": "code",
   "execution_count": null,
   "id": "562aa216",
   "metadata": {},
   "outputs": [],
   "source": [
    "str(list(table_rows[3])[1])"
   ]
  },
  {
   "cell_type": "code",
   "execution_count": null,
   "id": "7fcd8014",
   "metadata": {},
   "outputs": [],
   "source": [
    "# The full list of tasks\n",
    "\n",
    "all_tasks = []\n",
    "for i in range(len(table_rows)):\n",
    "    if len(list(table_rows[i])) > 2:\n",
    "        all_tasks.append(str(list(table_rows[i])[3]))\n",
    "    else:\n",
    "        all_tasks.append(str(list(table_rows[i])[1]))\n",
    "    \n",
    "            \n",
    "pprint(all_tasks)"
   ]
  },
  {
   "cell_type": "code",
   "execution_count": null,
   "id": "41543d89",
   "metadata": {},
   "outputs": [],
   "source": [
    "#inspect = [[i, all_tasks[i]] for i in range(len(all_tasks))]\n",
    "#inspect"
   ]
  },
  {
   "cell_type": "code",
   "execution_count": null,
   "id": "d1510e90",
   "metadata": {},
   "outputs": [],
   "source": [
    "# Removing the stuff from the end\n",
    "\n",
    "all_tasks = [task[:-7] for task in all_tasks]\n",
    "all_tasks"
   ]
  },
  {
   "cell_type": "code",
   "execution_count": null,
   "id": "ff41545e",
   "metadata": {},
   "outputs": [],
   "source": [
    "#all_tasks[25]"
   ]
  },
  {
   "cell_type": "code",
   "execution_count": null,
   "id": "c5aa2d5a",
   "metadata": {},
   "outputs": [],
   "source": [
    "#all_tasks[28]"
   ]
  },
  {
   "cell_type": "code",
   "execution_count": null,
   "id": "7b91902b",
   "metadata": {},
   "outputs": [],
   "source": [
    "#all_tasks[25]"
   ]
  },
  {
   "cell_type": "code",
   "execution_count": null,
   "id": "2fe8cedc",
   "metadata": {},
   "outputs": [],
   "source": [
    "#all_tasks[28]"
   ]
  },
  {
   "cell_type": "code",
   "execution_count": null,
   "id": "913edecd",
   "metadata": {},
   "outputs": [],
   "source": [
    "# Sort out odd issue with row 28\n",
    "\n",
    "all_tasks = [task for task in all_tasks if task != all_tasks[28]]\n",
    "all_tasks"
   ]
  },
  {
   "cell_type": "code",
   "execution_count": null,
   "id": "deb329d0",
   "metadata": {},
   "outputs": [],
   "source": [
    "# Remove issue with task 25\n",
    "\n",
    "all_tasks = [task for task in all_tasks if task != all_tasks[25]]\n",
    "all_tasks"
   ]
  },
  {
   "cell_type": "code",
   "execution_count": null,
   "id": "a6f71852",
   "metadata": {},
   "outputs": [],
   "source": [
    "# Getting rid of the <td>s from the beinnings \n",
    "\n",
    "all_tasks = [task[4:] for task in all_tasks]\n",
    "all_tasks"
   ]
  },
  {
   "cell_type": "code",
   "execution_count": null,
   "id": "d4ff60bf",
   "metadata": {},
   "outputs": [],
   "source": [
    "# Put back the bonus point\n",
    "\n",
    "all_tasks.append('The person who sounds the least worst')"
   ]
  },
  {
   "cell_type": "code",
   "execution_count": null,
   "id": "223890dc",
   "metadata": {},
   "outputs": [],
   "source": [
    "all_tasks"
   ]
  },
  {
   "cell_type": "code",
   "execution_count": null,
   "id": "15287c04",
   "metadata": {},
   "outputs": [],
   "source": [
    "#Remove the stuff from the beginnings\n",
    "\n",
    "for i in range(len(all_tasks)):\n",
    "    if 'Prize:' in all_tasks[i]:\n",
    "        all_tasks[i] = all_tasks[i][14:]\n",
    "    if 'Team Live' in all_tasks[i]:\n",
    "        all_tasks[i] = all_tasks[i][18:]\n",
    "    if 'Team' in all_tasks[i]:\n",
    "        all_tasks[i] = all_tasks[i][13:]\n",
    "    if 'Live' in all_tasks[i]:\n",
    "        all_tasks[i] = all_tasks[i][13:]\n",
    "        \n",
    "all_tasks"
   ]
  },
  {
   "cell_type": "code",
   "execution_count": null,
   "id": "e511a90d",
   "metadata": {},
   "outputs": [],
   "source": [
    "#sort out issue with task 3\n",
    "\n",
    "all_tasks[3] = all_tasks[3][23:-12]\n",
    "all_tasks"
   ]
  },
  {
   "cell_type": "markdown",
   "id": "42a19dd5",
   "metadata": {},
   "source": [
    "## The NLP stuff"
   ]
  },
  {
   "cell_type": "code",
   "execution_count": null,
   "id": "7fa1de7b",
   "metadata": {},
   "outputs": [],
   "source": [
    "tasks_split = [task.split() for task in all_tasks]\n",
    "tasks_split"
   ]
  },
  {
   "cell_type": "code",
   "execution_count": null,
   "id": "fa672bcc",
   "metadata": {},
   "outputs": [],
   "source": [
    "task_words = []\n",
    "for task in tasks_split:\n",
    "    task_words += task\n",
    "\n",
    "task_words"
   ]
  },
  {
   "cell_type": "code",
   "execution_count": null,
   "id": "e84ddc06",
   "metadata": {},
   "outputs": [],
   "source": [
    "tasks_lower = [task.lower() for task in task_words]\n",
    "tasks_lower"
   ]
  },
  {
   "cell_type": "code",
   "execution_count": null,
   "id": "e1d2ca03",
   "metadata": {},
   "outputs": [],
   "source": [
    "tasks_no_punc = []\n",
    "\n",
    "for word in tasks_lower:\n",
    "    for punctuation in string.punctuation:\n",
    "        word = word.replace(punctuation, '')\n",
    "    tasks_no_punc.append(word)\n",
    "        \n",
    "tasks_no_punc"
   ]
  },
  {
   "cell_type": "code",
   "execution_count": null,
   "id": "6273793a",
   "metadata": {},
   "outputs": [],
   "source": [
    "stop_words = set(stopwords.words('english'))"
   ]
  },
  {
   "cell_type": "code",
   "execution_count": null,
   "id": "ea366753",
   "metadata": {},
   "outputs": [],
   "source": [
    "tasks_no_stop = [word for word in tasks_no_punc if word not in stop_words]"
   ]
  },
  {
   "cell_type": "code",
   "execution_count": null,
   "id": "fe1a5d92",
   "metadata": {},
   "outputs": [],
   "source": [
    "len(tasks_lower)"
   ]
  },
  {
   "cell_type": "code",
   "execution_count": null,
   "id": "94ac9c75",
   "metadata": {},
   "outputs": [],
   "source": [
    "len(tasks_no_stop)"
   ]
  },
  {
   "cell_type": "markdown",
   "id": "c7d5d3e5",
   "metadata": {},
   "source": [
    "## Word Count"
   ]
  },
  {
   "cell_type": "code",
   "execution_count": null,
   "id": "02301701",
   "metadata": {
    "scrolled": true
   },
   "outputs": [],
   "source": [
    "df = pd.DataFrame(tasks_no_stop)\n",
    "df"
   ]
  },
  {
   "cell_type": "code",
   "execution_count": null,
   "id": "06d5220a",
   "metadata": {},
   "outputs": [],
   "source": [
    "df[0].value_counts().nlargest(10)"
   ]
  },
  {
   "cell_type": "markdown",
   "id": "dc199320",
   "metadata": {},
   "source": [
    "## Word Cloud"
   ]
  },
  {
   "cell_type": "code",
   "execution_count": null,
   "id": "d887f28b",
   "metadata": {},
   "outputs": [],
   "source": [
    "from os import path\n",
    "from PIL import Image\n",
    "from wordcloud import STOPWORDS, ImageColorGenerator\n",
    "import matplotlib.pyplot as plt"
   ]
  },
  {
   "cell_type": "code",
   "execution_count": null,
   "id": "80479827",
   "metadata": {},
   "outputs": [],
   "source": [
    "text = ''\n",
    "for words in tasks_no_stop:\n",
    "    text += words + ' '\n",
    "\n",
    "text"
   ]
  },
  {
   "cell_type": "code",
   "execution_count": null,
   "id": "d10c1e32",
   "metadata": {},
   "outputs": [],
   "source": [
    "wordcloud = WordCloud(background_color=\"white\").generate(text)"
   ]
  },
  {
   "cell_type": "code",
   "execution_count": null,
   "id": "cbe9e4d6",
   "metadata": {},
   "outputs": [],
   "source": [
    "plt.imshow(wordcloud, interpolation='bilinear')\n",
    "plt.axis(\"off\")\n",
    "plt.show()"
   ]
  },
  {
   "cell_type": "code",
   "execution_count": null,
   "id": "d7858fc5",
   "metadata": {},
   "outputs": [],
   "source": []
  }
 ],
 "metadata": {
  "kernelspec": {
   "display_name": "Python 3 (ipykernel)",
   "language": "python",
   "name": "python3"
  },
  "language_info": {
   "codemirror_mode": {
    "name": "ipython",
    "version": 3
   },
   "file_extension": ".py",
   "mimetype": "text/x-python",
   "name": "python",
   "nbconvert_exporter": "python",
   "pygments_lexer": "ipython3",
   "version": "3.11.3"
  }
 },
 "nbformat": 4,
 "nbformat_minor": 5
}
