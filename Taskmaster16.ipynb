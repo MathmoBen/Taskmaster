{
 "cells": [
  {
   "cell_type": "markdown",
   "id": "1cdda97e",
   "metadata": {},
   "source": [
    "# All the information is on the task(master fan wiki)\n"
   ]
  },
  {
   "cell_type": "markdown",
   "id": "5dc621aa",
   "metadata": {},
   "source": [
    "In this notebook we try to use Python's BeautifulSoup module to scrape the wording of all the tasks from series 14 of the popular TV show Taskmaster from the fan wiki:\n",
    "\n",
    "https://taskmaster.fandom.com/wiki/Series_16\n",
    "\n",
    "with a view to analysing them."
   ]
  },
  {
   "cell_type": "markdown",
   "id": "5a513768",
   "metadata": {},
   "source": [
    "## The main tasks"
   ]
  },
  {
   "cell_type": "code",
   "execution_count": null,
   "id": "878e7481",
   "metadata": {},
   "outputs": [],
   "source": [
    "# Ususal uploads\n",
    "\n",
    "from bs4 import BeautifulSoup\n",
    "import requests\n",
    "import numpy as np\n",
    "\n",
    "from wordcloud import WordCloud\n",
    "import plotly.express as px\n",
    "from pprint import pprint\n",
    "import string\n",
    "from nltk.tokenize import word_tokenize\n",
    "from nltk.corpus import stopwords\n",
    "\n",
    "import pandas as pd"
   ]
  },
  {
   "cell_type": "code",
   "execution_count": null,
   "id": "1aafc7c3",
   "metadata": {},
   "outputs": [],
   "source": [
    "url = 'https://taskmaster.fandom.com/wiki/Series_16'"
   ]
  },
  {
   "cell_type": "code",
   "execution_count": null,
   "id": "4dd7c7a0",
   "metadata": {},
   "outputs": [],
   "source": [
    "page = requests.get(url)"
   ]
  },
  {
   "cell_type": "code",
   "execution_count": null,
   "id": "92e5e0a7",
   "metadata": {},
   "outputs": [],
   "source": [
    "soup = BeautifulSoup(page.text, 'html.parser')"
   ]
  },
  {
   "cell_type": "code",
   "execution_count": null,
   "id": "8ff296e8",
   "metadata": {},
   "outputs": [],
   "source": [
    "all_starts = list(soup.find_all(\"tr\", class_='tmtablerow'))\n",
    "len(all_starts)"
   ]
  },
  {
   "cell_type": "code",
   "execution_count": null,
   "id": "b0c0a24a",
   "metadata": {},
   "outputs": [],
   "source": [
    "#Putting them all in a single list\n",
    "\n",
    "all_tasks = []\n",
    "for i in range(len(all_starts)):\n",
    "    if len(list(all_starts[i])) > 2:\n",
    "        all_tasks.append(str(list(all_starts[i])[3]))\n",
    "    else:\n",
    "        all_tasks.append(str(list(all_starts[i])[1]))\n",
    "    \n",
    "            \n",
    "pprint(all_tasks)"
   ]
  },
  {
   "cell_type": "code",
   "execution_count": null,
   "id": "f42e35d0",
   "metadata": {},
   "outputs": [],
   "source": [
    "# Getting rid of the <td>s from the beinnings \n",
    "\n",
    "all_tasks = [task[4:] for task in all_tasks]\n",
    "all_tasks"
   ]
  },
  {
   "cell_type": "code",
   "execution_count": null,
   "id": "17f922ea",
   "metadata": {},
   "outputs": [],
   "source": [
    "#Remove the stuff from the beginnings\n",
    "\n",
    "for i in range(len(all_tasks)):\n",
    "    if 'Prize:' in all_tasks[i]:\n",
    "        all_tasks[i] = all_tasks[i][14:]\n",
    "    if 'Team Live' in all_tasks[i]:\n",
    "        all_tasks[i] = all_tasks[i][18:]\n",
    "    if 'Team' in all_tasks[i]:\n",
    "        all_tasks[i] = all_tasks[i][13:]\n",
    "    if 'Live' in all_tasks[i]:\n",
    "        all_tasks[i] = all_tasks[i][13:]\n",
    "        \n",
    "all_tasks"
   ]
  },
  {
   "cell_type": "code",
   "execution_count": null,
   "id": "5e73941b",
   "metadata": {},
   "outputs": [],
   "source": [
    "# Removing the stuff from the end\n",
    "\n",
    "all_tasks = [task[:-7] for task in all_tasks]\n",
    "all_tasks"
   ]
  },
  {
   "cell_type": "code",
   "execution_count": null,
   "id": "7c21df1f",
   "metadata": {},
   "outputs": [],
   "source": [
    "all_tasks[32] = \"Instruct your teammates to recreate your garage scene. You may not say any of the words on any of the labels. You may not leave your location. Also, you must try on all the outfits in the basket one at a time and not mention anything about it to your teammates.\"\n",
    "all_tasks[32]"
   ]
  },
  {
   "cell_type": "code",
   "execution_count": null,
   "id": "ade67fa8",
   "metadata": {},
   "outputs": [],
   "source": [
    "all_tasks[55] = all_tasks[55][:-75]\n",
    "all_tasks[55]"
   ]
  },
  {
   "cell_type": "markdown",
   "id": "24fe8d9b",
   "metadata": {},
   "source": [
    "## NLP"
   ]
  },
  {
   "cell_type": "code",
   "execution_count": null,
   "id": "f0b8368c",
   "metadata": {},
   "outputs": [],
   "source": [
    "tasks_split = [task.split() for task in all_tasks]\n",
    "pprint(tasks_split)"
   ]
  },
  {
   "cell_type": "code",
   "execution_count": null,
   "id": "1d2919f6",
   "metadata": {},
   "outputs": [],
   "source": [
    "task_words = []\n",
    "for task in tasks_split:\n",
    "    task_words += task\n",
    "\n",
    "task_words"
   ]
  },
  {
   "cell_type": "code",
   "execution_count": null,
   "id": "a096d0a6",
   "metadata": {},
   "outputs": [],
   "source": [
    "tasks_lower = [task.lower() for task in task_words]\n",
    "tasks_lower"
   ]
  },
  {
   "cell_type": "code",
   "execution_count": null,
   "id": "b5af33ef",
   "metadata": {},
   "outputs": [],
   "source": [
    "tasks_no_punc = []\n",
    "\n",
    "for word in tasks_lower:\n",
    "    for punctuation in string.punctuation:\n",
    "        word = word.replace(punctuation, '')\n",
    "    tasks_no_punc.append(word)\n",
    "        \n",
    "tasks_no_punc"
   ]
  },
  {
   "cell_type": "code",
   "execution_count": null,
   "id": "965875a1",
   "metadata": {},
   "outputs": [],
   "source": [
    "stop_words = set(stopwords.words('english'))"
   ]
  },
  {
   "cell_type": "code",
   "execution_count": null,
   "id": "0b8fb062",
   "metadata": {},
   "outputs": [],
   "source": [
    "tasks_no_stop = [word for word in tasks_no_punc if word not in stop_words]"
   ]
  },
  {
   "cell_type": "code",
   "execution_count": null,
   "id": "1328860a",
   "metadata": {},
   "outputs": [],
   "source": [
    "len(tasks_lower)"
   ]
  },
  {
   "cell_type": "code",
   "execution_count": null,
   "id": "f2ed8325",
   "metadata": {},
   "outputs": [],
   "source": [
    "len(tasks_no_stop)"
   ]
  },
  {
   "cell_type": "code",
   "execution_count": null,
   "id": "03ba8e07",
   "metadata": {},
   "outputs": [],
   "source": [
    "# Lemmatizing\n",
    "\n",
    "from nltk.stem import WordNetLemmatizer\n",
    "\n",
    "# Lemmatizing the verbs\n",
    "task_verb_lem = [\n",
    "    WordNetLemmatizer().lemmatize(word, pos = \"v\") # v --> verbs\n",
    "    for word in tasks_no_stop\n",
    "]\n",
    "\n",
    "task_verb_lem"
   ]
  },
  {
   "cell_type": "code",
   "execution_count": null,
   "id": "eef0d999",
   "metadata": {},
   "outputs": [],
   "source": [
    "tasks_final = [\n",
    "    WordNetLemmatizer().lemmatize(word, pos = \"n\") # n --> nouns\n",
    "    for word in task_verb_lem\n",
    "]\n",
    "\n",
    "tasks_final"
   ]
  },
  {
   "cell_type": "markdown",
   "id": "7ae5a825",
   "metadata": {},
   "source": [
    "## Word count"
   ]
  },
  {
   "cell_type": "code",
   "execution_count": null,
   "id": "443892f7",
   "metadata": {},
   "outputs": [],
   "source": [
    "df = pd.DataFrame(tasks_final)\n",
    "df"
   ]
  },
  {
   "cell_type": "code",
   "execution_count": null,
   "id": "d80574b3",
   "metadata": {},
   "outputs": [],
   "source": [
    "df[0].value_counts().nlargest(15)"
   ]
  },
  {
   "cell_type": "markdown",
   "id": "88081260",
   "metadata": {},
   "source": [
    "## Word cloud"
   ]
  },
  {
   "cell_type": "code",
   "execution_count": null,
   "id": "c44015fa",
   "metadata": {},
   "outputs": [],
   "source": [
    "from wordcloud import WordCloud\n",
    "import matplotlib.pyplot as plt"
   ]
  },
  {
   "cell_type": "code",
   "execution_count": null,
   "id": "b712517f",
   "metadata": {},
   "outputs": [],
   "source": [
    "text = ''\n",
    "for words in tasks_final:\n",
    "    text += words + ' '\n",
    "\n",
    "text"
   ]
  },
  {
   "cell_type": "code",
   "execution_count": null,
   "id": "e6aa7966",
   "metadata": {},
   "outputs": [],
   "source": [
    "wordcloud = WordCloud(background_color=\"white\").generate(text)"
   ]
  },
  {
   "cell_type": "code",
   "execution_count": null,
   "id": "312ae3f3",
   "metadata": {},
   "outputs": [],
   "source": [
    "plt.imshow(wordcloud)#, interpolation='bilinear')\n",
    "plt.axis(\"off\")\n",
    "plt.show()"
   ]
  },
  {
   "cell_type": "code",
   "execution_count": null,
   "id": "d1a35527",
   "metadata": {},
   "outputs": [],
   "source": []
  }
 ],
 "metadata": {
  "kernelspec": {
   "display_name": "Python 3 (ipykernel)",
   "language": "python",
   "name": "python3"
  },
  "language_info": {
   "codemirror_mode": {
    "name": "ipython",
    "version": 3
   },
   "file_extension": ".py",
   "mimetype": "text/x-python",
   "name": "python",
   "nbconvert_exporter": "python",
   "pygments_lexer": "ipython3",
   "version": "3.11.3"
  }
 },
 "nbformat": 4,
 "nbformat_minor": 5
}
