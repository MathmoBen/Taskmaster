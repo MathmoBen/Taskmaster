{
 "cells": [
  {
   "cell_type": "markdown",
   "id": "f3f922d7",
   "metadata": {},
   "source": [
    "# All the information is on the task(master fan wiki)"
   ]
  },
  {
   "cell_type": "markdown",
   "id": "856ab557",
   "metadata": {},
   "source": [
    "In this notebook we try to use Python's BeautifulSoup module to scrape the wording of all the tasks from series 16 of the popular TV show Taskmaster from the fan wiki:\n",
    "\n",
    "https://taskmaster.fandom.com/wiki/Series_16\n",
    "\n",
    "with a view to analysing them."
   ]
  },
  {
   "cell_type": "code",
   "execution_count": null,
   "id": "8c601be6",
   "metadata": {},
   "outputs": [],
   "source": [
    "# Ususal uploads\n",
    "\n",
    "from bs4 import BeautifulSoup\n",
    "import requests\n",
    "import numpy as np\n",
    "\n",
    "from wordcloud import WordCloud\n",
    "import plotly.express as px\n",
    "from pprint import pprint\n",
    "import string\n",
    "from nltk.tokenize import word_tokenize\n",
    "from nltk.corpus import stopwords\n",
    "from nltk.stem import WordNetLemmatizer\n",
    "\n",
    "import pandas as pd"
   ]
  },
  {
   "cell_type": "markdown",
   "id": "b9990dc1",
   "metadata": {},
   "source": [
    "## Series 16"
   ]
  },
  {
   "cell_type": "markdown",
   "id": "a1060e10",
   "metadata": {},
   "source": [
    "As a first step in this direction we try to scrape the tasks for what is (at the time of scraping) the most recent full series to be broadcast in the UK, namely series 16."
   ]
  },
  {
   "cell_type": "code",
   "execution_count": null,
   "id": "b263d79a",
   "metadata": {},
   "outputs": [],
   "source": [
    "url =  'https://taskmaster.fandom.com/wiki/Series_16'"
   ]
  },
  {
   "cell_type": "code",
   "execution_count": null,
   "id": "61f2e9d0",
   "metadata": {},
   "outputs": [],
   "source": [
    "page = requests.get(url)"
   ]
  },
  {
   "cell_type": "code",
   "execution_count": null,
   "id": "80c94d70",
   "metadata": {},
   "outputs": [],
   "source": [
    "soup = BeautifulSoup(page.text, 'html.parser')"
   ]
  },
  {
   "cell_type": "code",
   "execution_count": null,
   "id": "7dc205b6",
   "metadata": {},
   "outputs": [],
   "source": [
    "print(soup.prettify)"
   ]
  },
  {
   "cell_type": "code",
   "execution_count": null,
   "id": "bd666c63",
   "metadata": {},
   "outputs": [],
   "source": [
    "soup.title.string"
   ]
  },
  {
   "cell_type": "code",
   "execution_count": null,
   "id": "701599cb",
   "metadata": {},
   "outputs": [],
   "source": [
    "soup.find"
   ]
  },
  {
   "cell_type": "code",
   "execution_count": null,
   "id": "3530fbed",
   "metadata": {},
   "outputs": [],
   "source": [
    "soup.a"
   ]
  },
  {
   "cell_type": "code",
   "execution_count": null,
   "id": "16bf78a0",
   "metadata": {},
   "outputs": [],
   "source": [
    "soup.text"
   ]
  },
  {
   "cell_type": "code",
   "execution_count": null,
   "id": "766d80d5",
   "metadata": {},
   "outputs": [],
   "source": [
    "experiment = soup.find_all(\"tr\", class_='tmtablerow')"
   ]
  },
  {
   "cell_type": "code",
   "execution_count": null,
   "id": "69afaa4f",
   "metadata": {
    "scrolled": false
   },
   "outputs": [],
   "source": [
    "type(experiment)\n",
    "for e in experiment:\n",
    "    print(e.find_all(\"td\"))\n",
    "    break"
   ]
  },
  {
   "cell_type": "code",
   "execution_count": null,
   "id": "9cd69bd8",
   "metadata": {},
   "outputs": [],
   "source": [
    "all_starts = list(soup.find_all(\"tr\", class_='tmtablerow'))\n",
    "len(all_starts)"
   ]
  },
  {
   "cell_type": "code",
   "execution_count": null,
   "id": "1702f404",
   "metadata": {},
   "outputs": [],
   "source": [
    "type(all_starts)"
   ]
  },
  {
   "cell_type": "code",
   "execution_count": null,
   "id": "d71c1ffa",
   "metadata": {},
   "outputs": [],
   "source": [
    "all_starts[0]"
   ]
  },
  {
   "cell_type": "code",
   "execution_count": null,
   "id": "15d7c931",
   "metadata": {},
   "outputs": [],
   "source": [
    "list(all_starts[3])"
   ]
  },
  {
   "cell_type": "markdown",
   "id": "8a1e0978",
   "metadata": {},
   "source": [
    "## All the tasks in a single list"
   ]
  },
  {
   "cell_type": "code",
   "execution_count": null,
   "id": "eed1d572",
   "metadata": {},
   "outputs": [],
   "source": [
    "all_tasks = []\n",
    "for i in range(len(all_starts)):\n",
    "    if len(list(all_starts[i])) > 2:\n",
    "        all_tasks.append(str(list(all_starts[i])[3]))\n",
    "    else:\n",
    "        all_tasks.append(str(list(all_starts[i])[1]))\n",
    "    \n",
    "            \n",
    "pprint(all_tasks)"
   ]
  },
  {
   "cell_type": "code",
   "execution_count": null,
   "id": "674301af",
   "metadata": {},
   "outputs": [],
   "source": [
    "type(all_tasks[0])"
   ]
  },
  {
   "cell_type": "code",
   "execution_count": null,
   "id": "4aaaacfc",
   "metadata": {},
   "outputs": [],
   "source": [
    "# Removing the stuff from the end\n",
    "\n",
    "all_tasks = [task[:-7] for task in all_tasks]"
   ]
  },
  {
   "cell_type": "code",
   "execution_count": null,
   "id": "9abedf13",
   "metadata": {},
   "outputs": [],
   "source": [
    "all_tasks"
   ]
  },
  {
   "cell_type": "code",
   "execution_count": null,
   "id": "11929fc1",
   "metadata": {},
   "outputs": [],
   "source": [
    "for i in range(len(all_tasks)):\n",
    "    if len(all_tasks[i]) == 4:\n",
    "        print(i)"
   ]
  },
  {
   "cell_type": "code",
   "execution_count": null,
   "id": "419ac1d6",
   "metadata": {},
   "outputs": [],
   "source": [
    "all_Starts[0]"
   ]
  },
  {
   "cell_type": "code",
   "execution_count": null,
   "id": "d6b23a14",
   "metadata": {},
   "outputs": [],
   "source": []
  },
  {
   "cell_type": "markdown",
   "id": "26c9dd13",
   "metadata": {},
   "source": [
    "## Extracting the Prize Tasks"
   ]
  },
  {
   "cell_type": "code",
   "execution_count": null,
   "id": "1a02cbc4",
   "metadata": {},
   "outputs": [],
   "source": [
    "prize_tasks = []\n",
    "\n",
    "for i in range(len(all_tasks)):\n",
    "    if 'Prize' in all_tasks[i]:\n",
    "        prize_tasks.append(all_tasks[i])\n",
    "        \n",
    "prize_tasks"
   ]
  },
  {
   "cell_type": "code",
   "execution_count": null,
   "id": "96ce0867",
   "metadata": {},
   "outputs": [],
   "source": [
    "nhnhgf mhjjhgjhg "
   ]
  },
  {
   "cell_type": "code",
   "execution_count": null,
   "id": "80021df5",
   "metadata": {},
   "outputs": [],
   "source": [
    "prize_tasks = [task[18:] for task in prize_tasks]\n",
    "prize_tasks"
   ]
  },
  {
   "cell_type": "code",
   "execution_count": null,
   "id": "130281dc",
   "metadata": {},
   "outputs": [],
   "source": [
    "prize_task_lengths = [len(task.split()) for task in prize_tasks]"
   ]
  },
  {
   "cell_type": "code",
   "execution_count": null,
   "id": "21f6be66",
   "metadata": {},
   "outputs": [],
   "source": [
    "prize_task_lengths"
   ]
  },
  {
   "cell_type": "code",
   "execution_count": null,
   "id": "509a4596",
   "metadata": {},
   "outputs": [],
   "source": [
    "np.array(prize_task_lengths).mean()"
   ]
  },
  {
   "cell_type": "code",
   "execution_count": null,
   "id": "985051a0",
   "metadata": {},
   "outputs": [],
   "source": [
    "np.array(prize_task_lengths).var()"
   ]
  },
  {
   "cell_type": "markdown",
   "id": "78dfa2ec",
   "metadata": {},
   "source": [
    "## Live tasks"
   ]
  },
  {
   "cell_type": "code",
   "execution_count": null,
   "id": "49cb3f84",
   "metadata": {},
   "outputs": [],
   "source": [
    "live_tasks = []\n",
    "\n",
    "for i in range(len(all_tasks)):\n",
    "    if 'Live:' in all_tasks[i]:\n",
    "        live_tasks.append(all_tasks[i])\n",
    "        \n",
    "live_tasks"
   ]
  },
  {
   "cell_type": "code",
   "execution_count": null,
   "id": "a4edf923",
   "metadata": {},
   "outputs": [],
   "source": [
    "live_tasks[3][22:]"
   ]
  },
  {
   "cell_type": "code",
   "execution_count": null,
   "id": "34dcbef2",
   "metadata": {},
   "outputs": [],
   "source": [
    "for i in range(len(live_tasks)):\n",
    "    if 'Team Live:' in live_tasks[i]:\n",
    "        live_tasks[i] = live_tasks[i][22:]\n",
    "        \n",
    "live_tasks"
   ]
  },
  {
   "cell_type": "code",
   "execution_count": null,
   "id": "59645da1",
   "metadata": {},
   "outputs": [],
   "source": [
    "live_tasks[0][17:]"
   ]
  },
  {
   "cell_type": "code",
   "execution_count": null,
   "id": "22786e76",
   "metadata": {},
   "outputs": [],
   "source": [
    "for i in range(len(live_tasks)):\n",
    "    if 'Live:' in live_tasks[i]:\n",
    "        live_tasks[i] = live_tasks[i][17:]\n",
    "    \n",
    "live_tasks"
   ]
  },
  {
   "cell_type": "code",
   "execution_count": null,
   "id": "a031eade",
   "metadata": {},
   "outputs": [],
   "source": [
    "len(live_tasks)"
   ]
  },
  {
   "cell_type": "code",
   "execution_count": null,
   "id": "cbf7cac9",
   "metadata": {},
   "outputs": [],
   "source": [
    "live_task_lengths = [len(task.split()) for task in live_tasks]"
   ]
  },
  {
   "cell_type": "code",
   "execution_count": null,
   "id": "6ffcfeea",
   "metadata": {},
   "outputs": [],
   "source": [
    "live_task_lengths"
   ]
  },
  {
   "cell_type": "code",
   "execution_count": null,
   "id": "93b23459",
   "metadata": {},
   "outputs": [],
   "source": [
    "np.array(live_task_lengths).mean()"
   ]
  },
  {
   "cell_type": "code",
   "execution_count": null,
   "id": "66fc7ad9",
   "metadata": {},
   "outputs": [],
   "source": [
    "np.array(live_task_lengths).var()"
   ]
  },
  {
   "cell_type": "markdown",
   "id": "6a74df28",
   "metadata": {},
   "source": [
    "# Cleaning-up the full list"
   ]
  },
  {
   "cell_type": "code",
   "execution_count": null,
   "id": "9872cc15",
   "metadata": {},
   "outputs": [],
   "source": [
    "all_tasks"
   ]
  },
  {
   "cell_type": "code",
   "execution_count": null,
   "id": "13e8d434",
   "metadata": {},
   "outputs": [],
   "source": [
    "all_tasks[0][4:]"
   ]
  },
  {
   "cell_type": "code",
   "execution_count": null,
   "id": "afd8ed57",
   "metadata": {},
   "outputs": [],
   "source": [
    "# Getting rid of the <td>s from the beinnings \n",
    "\n",
    "all_tasks = [task[4:] for task in all_tasks]\n",
    "all_tasks"
   ]
  },
  {
   "cell_type": "code",
   "execution_count": null,
   "id": "56f1fa6f",
   "metadata": {},
   "outputs": [],
   "source": [
    "# Sorting out strange issue with all_tasks[32]\n",
    "\n",
    "all_tasks[32] = 'Instruct your teammates to recreate your garage scene. You may not say any of the words on any of the labels. You may not leave your location. Also, you must try on all the outfits in the basket one at a time and not mention anything about it to your teammates'"
   ]
  },
  {
   "cell_type": "code",
   "execution_count": null,
   "id": "5cafa4ce",
   "metadata": {},
   "outputs": [],
   "source": [
    "all_tasks[32]"
   ]
  },
  {
   "cell_type": "code",
   "execution_count": null,
   "id": "d10786d0",
   "metadata": {},
   "outputs": [],
   "source": [
    "for i in range(len(all_tasks)):\n",
    "    if 'Prize:' in all_tasks[i]:\n",
    "        all_tasks[i] = all_tasks[i][14:]\n",
    "    if 'Team Live' in all_tasks[i]:\n",
    "        all_tasks[i] = all_tasks[i][18:]\n",
    "    if 'Team' in all_tasks[i]:\n",
    "        all_tasks[i] = all_tasks[i][13:]\n",
    "    if 'Live' in all_tasks[i]:\n",
    "        all_tasks[i] = all_tasks[i][13:]\n",
    "        \n",
    "all_tasks"
   ]
  },
  {
   "cell_type": "code",
   "execution_count": null,
   "id": "d3950f7f",
   "metadata": {},
   "outputs": [],
   "source": [
    "all_tasks[55]"
   ]
  },
  {
   "cell_type": "code",
   "execution_count": null,
   "id": "abf95b2e",
   "metadata": {},
   "outputs": [],
   "source": [
    "# Wierd issue with task 55\n",
    "\n",
    "for i in range(len(all_tasks)):\n",
    "    if '<' in all_tasks[i]:\n",
    "        print(i)\n",
    "    "
   ]
  },
  {
   "cell_type": "code",
   "execution_count": null,
   "id": "0b794caa",
   "metadata": {},
   "outputs": [],
   "source": [
    "all_tasks[55] = all_tasks[55][:-75]"
   ]
  },
  {
   "cell_type": "code",
   "execution_count": null,
   "id": "48f8e61b",
   "metadata": {},
   "outputs": [],
   "source": [
    "all_tasks[55]"
   ]
  },
  {
   "cell_type": "code",
   "execution_count": null,
   "id": "1f3dd646",
   "metadata": {},
   "outputs": [],
   "source": [
    "len(all_tasks)"
   ]
  },
  {
   "cell_type": "markdown",
   "id": "c87d1ba2",
   "metadata": {},
   "source": [
    "## NLP cleaning up"
   ]
  },
  {
   "cell_type": "code",
   "execution_count": null,
   "id": "31f5dbf0",
   "metadata": {},
   "outputs": [],
   "source": [
    "tasks_split = [task.split() for task in all_tasks]\n",
    "tasks_split"
   ]
  },
  {
   "cell_type": "code",
   "execution_count": null,
   "id": "200c3a6c",
   "metadata": {},
   "outputs": [],
   "source": [
    "task_words = []\n",
    "for task in tasks_split:\n",
    "    task_words += task\n",
    "\n",
    "task_words"
   ]
  },
  {
   "cell_type": "code",
   "execution_count": null,
   "id": "bfc557db",
   "metadata": {},
   "outputs": [],
   "source": [
    "# put every word in lower case\n",
    "\n",
    "tasks_lower = [task.lower() for task in task_words]\n",
    "tasks_lower"
   ]
  },
  {
   "cell_type": "code",
   "execution_count": null,
   "id": "6db7766a",
   "metadata": {},
   "outputs": [],
   "source": [
    "string.punctuation"
   ]
  },
  {
   "cell_type": "code",
   "execution_count": null,
   "id": "0c80a379",
   "metadata": {},
   "outputs": [],
   "source": [
    "tasks_no_punc = []\n",
    "\n",
    "for word in tasks_lower:\n",
    "    for punctuation in string.punctuation:\n",
    "        word = word.replace(punctuation, '')\n",
    "    tasks_no_punc.append(word)\n",
    "        \n",
    "tasks_no_punc"
   ]
  },
  {
   "cell_type": "code",
   "execution_count": null,
   "id": "66ed56ba",
   "metadata": {},
   "outputs": [],
   "source": [
    "len(tasks_lower) == len(tasks_no_punc)"
   ]
  },
  {
   "cell_type": "code",
   "execution_count": null,
   "id": "fcb39997",
   "metadata": {},
   "outputs": [],
   "source": [
    "stop_words = set(stopwords.words('english'))"
   ]
  },
  {
   "cell_type": "code",
   "execution_count": null,
   "id": "f80fbd57",
   "metadata": {},
   "outputs": [],
   "source": [
    "tasks_no_stop = [word for word in tasks_no_punc if word not in stop_words]"
   ]
  },
  {
   "cell_type": "code",
   "execution_count": null,
   "id": "1871a0a5",
   "metadata": {},
   "outputs": [],
   "source": [
    "len(tasks_lower)"
   ]
  },
  {
   "cell_type": "code",
   "execution_count": null,
   "id": "08cf6045",
   "metadata": {},
   "outputs": [],
   "source": [
    "len(tasks_no_stop)"
   ]
  },
  {
   "cell_type": "markdown",
   "id": "7878a692",
   "metadata": {},
   "source": [
    "## Word counts"
   ]
  },
  {
   "cell_type": "markdown",
   "id": "d2b9e82b",
   "metadata": {},
   "source": [
    "We find the 10 most frequently used words."
   ]
  },
  {
   "cell_type": "code",
   "execution_count": null,
   "id": "5010e3a0",
   "metadata": {},
   "outputs": [],
   "source": [
    "df = pd.DataFrame(tasks_no_stop)\n",
    "df"
   ]
  },
  {
   "cell_type": "code",
   "execution_count": null,
   "id": "f72f2677",
   "metadata": {},
   "outputs": [],
   "source": [
    "df[0].value_counts().nlargest(10)"
   ]
  },
  {
   "cell_type": "markdown",
   "id": "14dcd6ea",
   "metadata": {},
   "source": [
    "## Attempted word cloud"
   ]
  },
  {
   "cell_type": "markdown",
   "id": "f07b2cca",
   "metadata": {},
   "source": [
    "We make a word cloud of the words we're left with."
   ]
  },
  {
   "cell_type": "code",
   "execution_count": null,
   "id": "5953832f",
   "metadata": {},
   "outputs": [],
   "source": [
    "from os import path\n",
    "from PIL import Image\n",
    "from wordcloud import STOPWORDS, ImageColorGenerator\n",
    "import matplotlib.pyplot as plt"
   ]
  },
  {
   "cell_type": "code",
   "execution_count": null,
   "id": "503c931d",
   "metadata": {},
   "outputs": [],
   "source": [
    "df = pd.DataFrame(tasks_no_stop)\n",
    "df.head()"
   ]
  },
  {
   "cell_type": "code",
   "execution_count": null,
   "id": "93c8dcfa",
   "metadata": {},
   "outputs": [],
   "source": [
    "df[0].value_counts()"
   ]
  },
  {
   "cell_type": "code",
   "execution_count": null,
   "id": "73affeb4",
   "metadata": {},
   "outputs": [],
   "source": [
    "text = ''\n",
    "for words in tasks_no_stop:\n",
    "    text += words + ' '\n"
   ]
  },
  {
   "cell_type": "code",
   "execution_count": null,
   "id": "dcd1c038",
   "metadata": {},
   "outputs": [],
   "source": [
    "wordcloud = WordCloud(background_color=\"white\").generate(text)"
   ]
  },
  {
   "cell_type": "code",
   "execution_count": null,
   "id": "3c270bcc",
   "metadata": {},
   "outputs": [],
   "source": [
    "plt.imshow(wordcloud, interpolation='bilinear')\n",
    "plt.axis(\"off\")\n",
    "plt.show()"
   ]
  },
  {
   "cell_type": "code",
   "execution_count": null,
   "id": "abd90d89",
   "metadata": {},
   "outputs": [],
   "source": []
  }
 ],
 "metadata": {
  "kernelspec": {
   "display_name": "Python 3 (ipykernel)",
   "language": "python",
   "name": "python3"
  },
  "language_info": {
   "codemirror_mode": {
    "name": "ipython",
    "version": 3
   },
   "file_extension": ".py",
   "mimetype": "text/x-python",
   "name": "python",
   "nbconvert_exporter": "python",
   "pygments_lexer": "ipython3",
   "version": "3.11.3"
  }
 },
 "nbformat": 4,
 "nbformat_minor": 5
}
